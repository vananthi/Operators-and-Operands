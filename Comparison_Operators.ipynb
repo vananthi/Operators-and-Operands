{
  "nbformat": 4,
  "nbformat_minor": 0,
  "metadata": {
    "anaconda-cloud": {},
    "kernelspec": {
      "display_name": "Python 3",
      "language": "python",
      "name": "python3"
    },
    "language_info": {
      "codemirror_mode": {
        "name": "ipython",
        "version": 3
      },
      "file_extension": ".py",
      "mimetype": "text/x-python",
      "name": "python",
      "nbconvert_exporter": "python",
      "pygments_lexer": "ipython3",
      "version": "3.6.4"
    },
    "colab": {
      "provenance": [],
      "include_colab_link": true
    }
  },
  "cells": [
    {
      "cell_type": "markdown",
      "metadata": {
        "id": "view-in-github",
        "colab_type": "text"
      },
      "source": [
        "<a href=\"https://colab.research.google.com/github/vananthi/Operators-and-Operands/blob/main/Comparison_Operators.ipynb\" target=\"_parent\"><img src=\"https://colab.research.google.com/assets/colab-badge.svg\" alt=\"Open In Colab\"/></a>"
      ]
    },
    {
      "cell_type": "markdown",
      "source": [
        "Comparision_operators:>, <, >= , <=,==,!="
      ],
      "metadata": {
        "id": "yU102kZEybGV"
      }
    },
    {
      "cell_type": "code",
      "source": [
        "10 == 29 / 2 # check the value  # a = 10, b= 20 , assign"
      ],
      "metadata": {
        "colab": {
          "base_uri": "https://localhost:8080/"
        },
        "id": "RqGabsd7yw3w",
        "outputId": "e6171c40-11ed-4d1a-c625-7fbf50b32e18"
      },
      "execution_count": 4,
      "outputs": [
        {
          "output_type": "execute_result",
          "data": {
            "text/plain": [
              "False"
            ]
          },
          "metadata": {},
          "execution_count": 4
        }
      ]
    },
    {
      "cell_type": "code",
      "metadata": {
        "id": "4cgpsBHg65vc",
        "colab": {
          "base_uri": "https://localhost:8080/"
        },
        "outputId": "a3658512-cba6-4b00-9f6f-3c65a97807d1"
      },
      "source": [
        "10 == 10"
      ],
      "execution_count": 5,
      "outputs": [
        {
          "output_type": "execute_result",
          "data": {
            "text/plain": [
              "True"
            ]
          },
          "metadata": {},
          "execution_count": 5
        }
      ]
    },
    {
      "cell_type": "code",
      "metadata": {
        "id": "junbm7_d65vd",
        "outputId": "090757ae-e852-441f-e74b-1e496d2d214a",
        "colab": {
          "base_uri": "https://localhost:8080/"
        }
      },
      "source": [
        "10 != 15"
      ],
      "execution_count": 6,
      "outputs": [
        {
          "output_type": "execute_result",
          "data": {
            "text/plain": [
              "True"
            ]
          },
          "metadata": {},
          "execution_count": 6
        }
      ]
    },
    {
      "cell_type": "code",
      "metadata": {
        "id": "_IalE1OQ65ve",
        "outputId": "6fad48a8-d2e5-4219-d712-026b1681c547",
        "colab": {
          "base_uri": "https://localhost:8080/"
        }
      },
      "source": [
        "100 > 50"
      ],
      "execution_count": 7,
      "outputs": [
        {
          "output_type": "execute_result",
          "data": {
            "text/plain": [
              "True"
            ]
          },
          "metadata": {},
          "execution_count": 7
        }
      ]
    },
    {
      "cell_type": "code",
      "metadata": {
        "scrolled": true,
        "id": "tCOMTaXe65vg",
        "outputId": "743b2eb2-af59-4d51-bb4a-05134da496d1",
        "colab": {
          "base_uri": "https://localhost:8080/"
        }
      },
      "source": [
        "100 < 50"
      ],
      "execution_count": 8,
      "outputs": [
        {
          "output_type": "execute_result",
          "data": {
            "text/plain": [
              "False"
            ]
          },
          "metadata": {},
          "execution_count": 8
        }
      ]
    },
    {
      "cell_type": "code",
      "metadata": {
        "id": "XaWPnlpt65vg",
        "outputId": "afc97e44-b2d3-4a13-e6a9-61aae5ba3128",
        "colab": {
          "base_uri": "https://localhost:8080/"
        }
      },
      "source": [
        "15 >= 10 + 5"
      ],
      "execution_count": 9,
      "outputs": [
        {
          "output_type": "execute_result",
          "data": {
            "text/plain": [
              "True"
            ]
          },
          "metadata": {},
          "execution_count": 9
        }
      ]
    },
    {
      "cell_type": "code",
      "metadata": {
        "id": "xzKH9hKH65vh",
        "outputId": "8677ecbd-811a-478a-8506-f0236c306d59",
        "colab": {
          "base_uri": "https://localhost:8080/"
        }
      },
      "source": [
        "15 <= 10 + 5"
      ],
      "execution_count": 10,
      "outputs": [
        {
          "output_type": "execute_result",
          "data": {
            "text/plain": [
              "True"
            ]
          },
          "metadata": {},
          "execution_count": 10
        }
      ]
    },
    {
      "cell_type": "code",
      "source": [
        "10 < 15"
      ],
      "metadata": {
        "id": "209sHZ0zwSLZ",
        "outputId": "2e84db98-0ec7-4f04-8969-77bfa89770f8",
        "colab": {
          "base_uri": "https://localhost:8080/"
        }
      },
      "execution_count": 11,
      "outputs": [
        {
          "output_type": "execute_result",
          "data": {
            "text/plain": [
              "True"
            ]
          },
          "metadata": {},
          "execution_count": 11
        }
      ]
    }
  ]
}