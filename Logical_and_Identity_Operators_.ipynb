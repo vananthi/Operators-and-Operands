{
  "nbformat": 4,
  "nbformat_minor": 0,
  "metadata": {
    "anaconda-cloud": {},
    "kernelspec": {
      "display_name": "Python 3",
      "language": "python",
      "name": "python3"
    },
    "language_info": {
      "codemirror_mode": {
        "name": "ipython",
        "version": 3
      },
      "file_extension": ".py",
      "mimetype": "text/x-python",
      "name": "python",
      "nbconvert_exporter": "python",
      "pygments_lexer": "ipython3",
      "version": "3.6.4"
    },
    "colab": {
      "provenance": [],
      "include_colab_link": true
    }
  },
  "cells": [
    {
      "cell_type": "markdown",
      "metadata": {
        "id": "view-in-github",
        "colab_type": "text"
      },
      "source": [
        "<a href=\"https://colab.research.google.com/github/vananthi/Operators-and-Operands/blob/main/Logical_and_Identity_Operators_.ipynb\" target=\"_parent\"><img src=\"https://colab.research.google.com/assets/colab-badge.svg\" alt=\"Open In Colab\"/></a>"
      ]
    },
    {
      "cell_type": "markdown",
      "metadata": {
        "id": "QAfpGjABuT34"
      },
      "source": [
        "** Logical Operators: **   \n",
        "# and,  #or, #not  \n",
        "True=1\n",
        "False=0"
      ]
    },
    {
      "cell_type": "code",
      "metadata": {
        "colab": {
          "base_uri": "https://localhost:8080/"
        },
        "id": "M6wuSMzKuT41",
        "outputId": "c31afec5-fa2c-4bec-db0c-32be099750a1"
      },
      "source": [
        "True and True or False  # 1 * 1 +0 = 1   # and , or , not"
      ],
      "execution_count": 1,
      "outputs": [
        {
          "output_type": "execute_result",
          "data": {
            "text/plain": [
              "True"
            ]
          },
          "metadata": {},
          "execution_count": 1
        }
      ]
    },
    {
      "cell_type": "code",
      "source": [
        "1 and 0 or 0  # 1* 0 + 0 = 0"
      ],
      "metadata": {
        "colab": {
          "base_uri": "https://localhost:8080/"
        },
        "id": "JDm2Q7Ykdjkf",
        "outputId": "c86f7306-fc2c-453e-ef4c-b925c4e4e9fc"
      },
      "execution_count": 2,
      "outputs": [
        {
          "output_type": "execute_result",
          "data": {
            "text/plain": [
              "0"
            ]
          },
          "metadata": {},
          "execution_count": 2
        }
      ]
    },
    {
      "cell_type": "code",
      "source": [
        "True * True"
      ],
      "metadata": {
        "id": "wxRR4cARGp2g",
        "outputId": "54f952cc-e9cb-4195-d2fa-189b6c96280f",
        "colab": {
          "base_uri": "https://localhost:8080/"
        }
      },
      "execution_count": null,
      "outputs": [
        {
          "output_type": "execute_result",
          "data": {
            "text/plain": [
              "1"
            ]
          },
          "metadata": {},
          "execution_count": 3
        }
      ]
    },
    {
      "cell_type": "code",
      "metadata": {
        "id": "wUBpmCsSuT4_",
        "outputId": "1b0d9154-59aa-4502-a5c8-dd030faaca1f"
      },
      "source": [
        "True and False #1 * 0"
      ],
      "execution_count": null,
      "outputs": [
        {
          "output_type": "execute_result",
          "data": {
            "text/plain": [
              "False"
            ]
          },
          "metadata": {
            "tags": []
          },
          "execution_count": 1
        }
      ]
    },
    {
      "cell_type": "code",
      "metadata": {
        "id": "QaKg6CuiuT5C",
        "outputId": "c633cd27-ac87-4ff3-a9ea-4c33d2d6ca0e"
      },
      "source": [
        "False and False"
      ],
      "execution_count": null,
      "outputs": [
        {
          "output_type": "execute_result",
          "data": {
            "text/plain": [
              "False"
            ]
          },
          "metadata": {
            "tags": []
          },
          "execution_count": 54
        }
      ]
    },
    {
      "cell_type": "code",
      "metadata": {
        "id": "PVz4Og5buT5E",
        "outputId": "485f838e-fb87-464b-b559-f5620f17aad1"
      },
      "source": [
        "False or False # 0+0"
      ],
      "execution_count": null,
      "outputs": [
        {
          "output_type": "execute_result",
          "data": {
            "text/plain": [
              "False"
            ]
          },
          "metadata": {
            "tags": []
          },
          "execution_count": 53
        }
      ]
    },
    {
      "cell_type": "code",
      "metadata": {
        "id": "toA0FYTjuT5H",
        "outputId": "c4721bbb-76b1-4d30-be98-a12bf7c4d9ab"
      },
      "source": [
        "True or True #1+1"
      ],
      "execution_count": null,
      "outputs": [
        {
          "output_type": "execute_result",
          "data": {
            "text/plain": [
              "True"
            ]
          },
          "metadata": {
            "tags": []
          },
          "execution_count": 56
        }
      ]
    },
    {
      "cell_type": "code",
      "metadata": {
        "id": "lEWAAqxMuT5J",
        "outputId": "0aa74458-b446-4b60-b0e7-787221ce859d"
      },
      "source": [
        "True or False"
      ],
      "execution_count": null,
      "outputs": [
        {
          "output_type": "execute_result",
          "data": {
            "text/plain": [
              "True"
            ]
          },
          "metadata": {
            "tags": []
          },
          "execution_count": 57
        }
      ]
    },
    {
      "cell_type": "code",
      "metadata": {
        "id": "P88VwHiBuT5W",
        "outputId": "bb84064d-cfc9-429c-a9c7-9c8ef5b12198"
      },
      "source": [
        "False or True"
      ],
      "execution_count": null,
      "outputs": [
        {
          "output_type": "execute_result",
          "data": {
            "text/plain": [
              "True"
            ]
          },
          "metadata": {
            "tags": []
          },
          "execution_count": 58
        }
      ]
    },
    {
      "cell_type": "code",
      "metadata": {
        "id": "tQ5eZvZcuT5Z",
        "outputId": "22ac9b24-3b99-48d3-f800-bf3f9c82b2af"
      },
      "source": [
        "not True"
      ],
      "execution_count": null,
      "outputs": [
        {
          "output_type": "execute_result",
          "data": {
            "text/plain": [
              "False"
            ]
          },
          "metadata": {
            "tags": []
          },
          "execution_count": 59
        }
      ]
    },
    {
      "cell_type": "code",
      "metadata": {
        "id": "le06rx_UuT5e",
        "outputId": "fbce813a-169b-4eb3-8383-9ce726847204"
      },
      "source": [
        "not False"
      ],
      "execution_count": null,
      "outputs": [
        {
          "output_type": "execute_result",
          "data": {
            "text/plain": [
              "True"
            ]
          },
          "metadata": {
            "tags": []
          },
          "execution_count": 60
        }
      ]
    },
    {
      "cell_type": "code",
      "metadata": {
        "id": "4OJmw6ieuT5g",
        "outputId": "18cd9b12-95cc-41a0-c4ba-89bf945cf814"
      },
      "source": [
        "3 > 5 and 10 <= 20"
      ],
      "execution_count": null,
      "outputs": [
        {
          "output_type": "execute_result",
          "data": {
            "text/plain": [
              "False"
            ]
          },
          "metadata": {
            "tags": []
          },
          "execution_count": 2
        }
      ]
    },
    {
      "cell_type": "markdown",
      "metadata": {
        "id": "9d7-gvt5uT5h"
      },
      "source": [
        "**Not - And - Or**"
      ]
    },
    {
      "cell_type": "code",
      "metadata": {
        "id": "iT29jrMluT5j",
        "outputId": "7d78c8ed-cb0a-4907-b68c-2290ffe423a8"
      },
      "source": [
        "True and not True"
      ],
      "execution_count": null,
      "outputs": [
        {
          "output_type": "execute_result",
          "data": {
            "text/plain": [
              "False"
            ]
          },
          "metadata": {
            "tags": []
          },
          "execution_count": 13
        }
      ]
    },
    {
      "cell_type": "code",
      "metadata": {
        "id": "-IV3rG7EuT5k",
        "outputId": "71273cd4-3aad-45bc-cf69-a33f03645646"
      },
      "source": [
        "False or not True and True"
      ],
      "execution_count": null,
      "outputs": [
        {
          "output_type": "execute_result",
          "data": {
            "text/plain": [
              "False"
            ]
          },
          "metadata": {
            "tags": []
          },
          "execution_count": 15
        }
      ]
    },
    {
      "cell_type": "code",
      "metadata": {
        "id": "_YsMVAdauT5l",
        "outputId": "9f1fa238-8718-4552-8c09-d8e89eda5da3"
      },
      "source": [
        "True and not True or True"
      ],
      "execution_count": null,
      "outputs": [
        {
          "output_type": "execute_result",
          "data": {
            "text/plain": [
              "True"
            ]
          },
          "metadata": {
            "tags": []
          },
          "execution_count": 2
        }
      ]
    },
    {
      "cell_type": "markdown",
      "metadata": {
        "id": "ozFbAaV2uT5l"
      },
      "source": [
        "** Identity Operators: **"
      ]
    },
    {
      "cell_type": "code",
      "metadata": {
        "id": "6QtKaKCSuT5m",
        "outputId": "028604dd-c811-4722-bd8d-617f850cc136"
      },
      "source": [
        "5 is 6"
      ],
      "execution_count": null,
      "outputs": [
        {
          "output_type": "execute_result",
          "data": {
            "text/plain": [
              "False"
            ]
          },
          "metadata": {
            "tags": []
          },
          "execution_count": 47
        }
      ]
    }
  ]
}